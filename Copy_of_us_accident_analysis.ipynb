{
  "cells": [
    {
      "cell_type": "code",
      "execution_count": null,
      "metadata": {
        "colab": {
          "base_uri": "https://localhost:8080/"
        },
        "id": "lmLFtPWYqHv4",
        "outputId": "2cf75150-7bc4-4579-ca52-c9dd92d03638"
      },
      "outputs": [
        {
          "output_type": "stream",
          "name": "stdout",
          "text": [
            "\u001b[?25l\r\u001b[K     |████▊                           | 10 kB 23.1 MB/s eta 0:00:01\r\u001b[K     |█████████▌                      | 20 kB 9.0 MB/s eta 0:00:01\r\u001b[K     |██████████████▎                 | 30 kB 9.4 MB/s eta 0:00:01\r\u001b[K     |███████████████████             | 40 kB 3.5 MB/s eta 0:00:01\r\u001b[K     |███████████████████████▉        | 51 kB 3.5 MB/s eta 0:00:01\r\u001b[K     |████████████████████████████▋   | 61 kB 4.2 MB/s eta 0:00:01\r\u001b[K     |████████████████████████████████| 68 kB 2.8 MB/s \n",
            "\u001b[?25h  Building wheel for uuid (setup.py) ... \u001b[?25l\u001b[?25hdone\n"
          ]
        }
      ],
      "source": [
        "# Jovian Commit Essentials\n",
        "# Please retain and execute this cell without modifying the contents for `jovian.commit` to work\n",
        "!pip install jovian --upgrade -q\n",
        "import jovian\n",
        "jovian.set_project('us-accident-analysis')\n",
        "jovian.set_colab_id('1WvgippfHPypcyKXkoH6y5K1YnnZCHtft')"
      ]
    },
    {
      "cell_type": "markdown",
      "source": [
        "#us accident exploratory"
      ],
      "metadata": {
        "id": "mMzNM1UPq5fJ"
      }
    },
    {
      "cell_type": "markdown",
      "metadata": {
        "id": "B7PLyL1yqHv8"
      },
      "source": [
        "# us-accident-analysis\n",
        "### Todo - Talk about EDA\n",
        "### Todo - talk about the dataset(source,what it contains,how it will be useful)\n",
        " -kaggle\n",
        " -information about accidents\n",
        " -Useful in preventing the accident"
      ]
    },
    {
      "cell_type": "code",
      "execution_count": null,
      "metadata": {
        "id": "0y1aGZCiqHv9"
      },
      "outputs": [],
      "source": [
        "!pip install jovian --upgrade --quiet"
      ]
    },
    {
      "cell_type": "code",
      "source": [
        "pip install opendatasets --upgrade --quiet"
      ],
      "metadata": {
        "id": "aMMRXlqTxPZt"
      },
      "execution_count": null,
      "outputs": []
    },
    {
      "cell_type": "markdown",
      "source": [
        "###Downloading the dataset"
      ],
      "metadata": {
        "id": "iw9PPhAi2Nal"
      }
    },
    {
      "cell_type": "code",
      "source": [
        "import opendatasets as od\n",
        "download_url = 'https://www.kaggle.com/datasets/sobhanmoosavi/us-accidents'\n",
        "od.download(download_url)"
      ],
      "metadata": {
        "colab": {
          "base_uri": "https://localhost:8080/"
        },
        "id": "vajtI0h1wIcd",
        "outputId": "5ff37946-057a-4a00-a870-c93c074f0e11"
      },
      "execution_count": null,
      "outputs": [
        {
          "output_type": "stream",
          "name": "stdout",
          "text": [
            "Please provide your Kaggle credentials to download this dataset. Learn more: http://bit.ly/kaggle-creds\n",
            "Your Kaggle username: shilpeesharma\n",
            "Your Kaggle Key: ··········\n",
            "Downloading us-accidents.zip to ./us-accidents\n"
          ]
        },
        {
          "output_type": "stream",
          "name": "stderr",
          "text": [
            "100%|██████████| 269M/269M [00:01<00:00, 209MB/s]\n"
          ]
        },
        {
          "output_type": "stream",
          "name": "stdout",
          "text": [
            "\n"
          ]
        }
      ]
    },
    {
      "cell_type": "code",
      "source": [
        "data_filename = './us-accidents/US_Accidents_Dec21_updated.csv'\n"
      ],
      "metadata": {
        "id": "fuvxp5_lylUg"
      },
      "execution_count": null,
      "outputs": []
    },
    {
      "cell_type": "code",
      "execution_count": null,
      "metadata": {
        "id": "jNbvbAdOqHv-"
      },
      "outputs": [],
      "source": [
        "import jovian"
      ]
    },
    {
      "cell_type": "code",
      "execution_count": null,
      "metadata": {
        "colab": {
          "base_uri": "https://localhost:8080/",
          "height": 125
        },
        "id": "0zA7eHhHqHv-",
        "outputId": "adb48512-84dd-4dec-ec80-55a65face0c6"
      },
      "outputs": [
        {
          "output_type": "stream",
          "name": "stdout",
          "text": [
            "[jovian] Detected Colab notebook...\u001b[0m\n",
            "[jovian] Please enter your API key ( from https://jovian.ai/ ):\u001b[0m\n",
            "API KEY: ··········\n",
            "[jovian] Uploading colab notebook to Jovian...\u001b[0m\n",
            "Committed successfully! https://jovian.ai/aasaliya-shilpee/us-accident-analysis\n"
          ]
        },
        {
          "output_type": "execute_result",
          "data": {
            "text/plain": [
              "'https://jovian.ai/aasaliya-shilpee/us-accident-analysis'"
            ],
            "application/vnd.google.colaboratory.intrinsic+json": {
              "type": "string"
            }
          },
          "metadata": {},
          "execution_count": 10
        }
      ],
      "source": [
        "# Execute this to save new versions of the notebook\n",
        "jovian.commit(project=\"us-accident-analysis\")"
      ]
    },
    {
      "cell_type": "markdown",
      "source": [
        "##Data preparation and cleaning\n",
        "\n",
        "1.   load the file using Pandas\n",
        "2.   look at some information about the data.\n",
        "3.   Fix any missing or incorrect values.\n",
        "\n",
        "\n",
        "\n",
        "\n",
        "\n",
        "\n",
        "\n",
        "\n"
      ],
      "metadata": {
        "id": "pO9Z_4Qyr_1O"
      }
    },
    {
      "cell_type": "code",
      "source": [
        "import pandas as pd"
      ],
      "metadata": {
        "id": "CeH6512LsXp_"
      },
      "execution_count": null,
      "outputs": []
    },
    {
      "cell_type": "code",
      "source": [
        "df = pd.read_csv(data_filename)"
      ],
      "metadata": {
        "id": "vPeBi7q4sXf9"
      },
      "execution_count": null,
      "outputs": []
    },
    {
      "cell_type": "code",
      "source": [
        "df.info()"
      ],
      "metadata": {
        "colab": {
          "base_uri": "https://localhost:8080/"
        },
        "id": "JCMxm6qXsXP1",
        "outputId": "97565fe0-70b4-46fa-cee1-8aa5a861fdd8"
      },
      "execution_count": null,
      "outputs": [
        {
          "output_type": "stream",
          "name": "stdout",
          "text": [
            "<class 'pandas.core.frame.DataFrame'>\n",
            "RangeIndex: 2845342 entries, 0 to 2845341\n",
            "Data columns (total 47 columns):\n",
            " #   Column                 Dtype         \n",
            "---  ------                 -----         \n",
            " 0   ID                     object        \n",
            " 1   Severity               int64         \n",
            " 2   Start_Time             datetime64[ns]\n",
            " 3   End_Time               object        \n",
            " 4   Start_Lat              float64       \n",
            " 5   Start_Lng              float64       \n",
            " 6   End_Lat                float64       \n",
            " 7   End_Lng                float64       \n",
            " 8   Distance(mi)           float64       \n",
            " 9   Description            object        \n",
            " 10  Number                 float64       \n",
            " 11  Street                 object        \n",
            " 12  Side                   object        \n",
            " 13  City                   object        \n",
            " 14  County                 object        \n",
            " 15  State                  object        \n",
            " 16  Zipcode                object        \n",
            " 17  Country                object        \n",
            " 18  Timezone               object        \n",
            " 19  Airport_Code           object        \n",
            " 20  Weather_Timestamp      object        \n",
            " 21  Temperature(F)         float64       \n",
            " 22  Wind_Chill(F)          float64       \n",
            " 23  Humidity(%)            float64       \n",
            " 24  Pressure(in)           float64       \n",
            " 25  Visibility(mi)         float64       \n",
            " 26  Wind_Direction         object        \n",
            " 27  Wind_Speed(mph)        float64       \n",
            " 28  Precipitation(in)      float64       \n",
            " 29  Weather_Condition      object        \n",
            " 30  Amenity                bool          \n",
            " 31  Bump                   bool          \n",
            " 32  Crossing               bool          \n",
            " 33  Give_Way               bool          \n",
            " 34  Junction               bool          \n",
            " 35  No_Exit                bool          \n",
            " 36  Railway                bool          \n",
            " 37  Roundabout             bool          \n",
            " 38  Station                bool          \n",
            " 39  Stop                   bool          \n",
            " 40  Traffic_Calming        bool          \n",
            " 41  Traffic_Signal         bool          \n",
            " 42  Turning_Loop           bool          \n",
            " 43  Sunrise_Sunset         object        \n",
            " 44  Civil_Twilight         object        \n",
            " 45  Nautical_Twilight      object        \n",
            " 46  Astronomical_Twilight  object        \n",
            "dtypes: bool(13), datetime64[ns](1), float64(13), int64(1), object(19)\n",
            "memory usage: 773.4+ MB\n"
          ]
        }
      ]
    },
    {
      "cell_type": "code",
      "source": [
        "df.columns"
      ],
      "metadata": {
        "colab": {
          "base_uri": "https://localhost:8080/"
        },
        "id": "SMojmyzdsXI0",
        "outputId": "0de89ef4-09ba-412d-939d-5ee16062dd5a"
      },
      "execution_count": null,
      "outputs": [
        {
          "output_type": "execute_result",
          "data": {
            "text/plain": [
              "Index(['ID', 'Severity', 'Start_Time', 'End_Time', 'Start_Lat', 'Start_Lng',\n",
              "       'End_Lat', 'End_Lng', 'Distance(mi)', 'Description', 'Number', 'Street',\n",
              "       'Side', 'City', 'County', 'State', 'Zipcode', 'Country', 'Timezone',\n",
              "       'Airport_Code', 'Weather_Timestamp', 'Temperature(F)', 'Wind_Chill(F)',\n",
              "       'Humidity(%)', 'Pressure(in)', 'Visibility(mi)', 'Wind_Direction',\n",
              "       'Wind_Speed(mph)', 'Precipitation(in)', 'Weather_Condition', 'Amenity',\n",
              "       'Bump', 'Crossing', 'Give_Way', 'Junction', 'No_Exit', 'Railway',\n",
              "       'Roundabout', 'Station', 'Stop', 'Traffic_Calming', 'Traffic_Signal',\n",
              "       'Turning_Loop', 'Sunrise_Sunset', 'Civil_Twilight', 'Nautical_Twilight',\n",
              "       'Astronomical_Twilight'],\n",
              "      dtype='object')"
            ]
          },
          "metadata": {},
          "execution_count": 11
        }
      ]
    },
    {
      "cell_type": "code",
      "source": [
        "len(df.columns)"
      ],
      "metadata": {
        "colab": {
          "base_uri": "https://localhost:8080/"
        },
        "id": "nw6rprbVsW-_",
        "outputId": "943f4a46-0224-4712-ce30-05d685c122c3"
      },
      "execution_count": null,
      "outputs": [
        {
          "output_type": "execute_result",
          "data": {
            "text/plain": [
              "47"
            ]
          },
          "metadata": {},
          "execution_count": 12
        }
      ]
    },
    {
      "cell_type": "code",
      "source": [
        "numerics = ['int16', 'int32', 'int64', 'float16', 'float32', 'float64']\n",
        "\n",
        "newdf = df.select_dtypes(include=numerics)\n",
        "len(newdf.columns)"
      ],
      "metadata": {
        "colab": {
          "base_uri": "https://localhost:8080/"
        },
        "id": "nmgZkrrS0jBC",
        "outputId": "ac4e8cc6-f713-480d-f509-bc9fb4b77014"
      },
      "execution_count": null,
      "outputs": [
        {
          "output_type": "execute_result",
          "data": {
            "text/plain": [
              "14"
            ]
          },
          "metadata": {},
          "execution_count": 15
        }
      ]
    },
    {
      "cell_type": "code",
      "source": [
        "missing_percentage=df.isna().sum().sort_values(ascending=False) /len(df)\n",
        "missing_percentage"
      ],
      "metadata": {
        "colab": {
          "base_uri": "https://localhost:8080/"
        },
        "id": "vfw02BPi0i8c",
        "outputId": "9f6943a4-b5fc-476f-86e8-12d5ba108d14"
      },
      "execution_count": null,
      "outputs": [
        {
          "output_type": "execute_result",
          "data": {
            "text/plain": [
              "Number                   6.129003e-01\n",
              "Precipitation(in)        1.931079e-01\n",
              "Wind_Chill(F)            1.650568e-01\n",
              "Wind_Speed(mph)          5.550967e-02\n",
              "Wind_Direction           2.592834e-02\n",
              "Humidity(%)              2.568830e-02\n",
              "Weather_Condition        2.482514e-02\n",
              "Visibility(mi)           2.479350e-02\n",
              "Temperature(F)           2.434646e-02\n",
              "Pressure(in)             2.080593e-02\n",
              "Weather_Timestamp        1.783125e-02\n",
              "Airport_Code             3.356011e-03\n",
              "Timezone                 1.285961e-03\n",
              "Nautical_Twilight        1.007612e-03\n",
              "Civil_Twilight           1.007612e-03\n",
              "Sunrise_Sunset           1.007612e-03\n",
              "Astronomical_Twilight    1.007612e-03\n",
              "Zipcode                  4.635647e-04\n",
              "City                     4.814887e-05\n",
              "Street                   7.029032e-07\n",
              "Country                  0.000000e+00\n",
              "Junction                 0.000000e+00\n",
              "Start_Time               0.000000e+00\n",
              "End_Time                 0.000000e+00\n",
              "Start_Lat                0.000000e+00\n",
              "Turning_Loop             0.000000e+00\n",
              "Traffic_Signal           0.000000e+00\n",
              "Traffic_Calming          0.000000e+00\n",
              "Stop                     0.000000e+00\n",
              "Station                  0.000000e+00\n",
              "Roundabout               0.000000e+00\n",
              "Railway                  0.000000e+00\n",
              "No_Exit                  0.000000e+00\n",
              "Crossing                 0.000000e+00\n",
              "Give_Way                 0.000000e+00\n",
              "Bump                     0.000000e+00\n",
              "Amenity                  0.000000e+00\n",
              "Start_Lng                0.000000e+00\n",
              "End_Lat                  0.000000e+00\n",
              "End_Lng                  0.000000e+00\n",
              "Distance(mi)             0.000000e+00\n",
              "Description              0.000000e+00\n",
              "Severity                 0.000000e+00\n",
              "Side                     0.000000e+00\n",
              "County                   0.000000e+00\n",
              "State                    0.000000e+00\n",
              "ID                       0.000000e+00\n",
              "dtype: float64"
            ]
          },
          "metadata": {},
          "execution_count": 21
        }
      ]
    },
    {
      "cell_type": "markdown",
      "source": [
        "percentage of missing values per colunm"
      ],
      "metadata": {
        "id": "w7WCwfXN8bVD"
      }
    },
    {
      "cell_type": "code",
      "source": [
        "missing_percentage[missing_percentage!=0].plot(kind='barh')"
      ],
      "metadata": {
        "colab": {
          "base_uri": "https://localhost:8080/",
          "height": 283
        },
        "id": "AeaXctZb8a-d",
        "outputId": "35378d1f-3de7-4b7e-e0e6-5bf16dd22937"
      },
      "execution_count": null,
      "outputs": [
        {
          "output_type": "execute_result",
          "data": {
            "text/plain": [
              "<matplotlib.axes._subplots.AxesSubplot at 0x7f4dfad3c090>"
            ]
          },
          "metadata": {},
          "execution_count": 24
        },
        {
          "output_type": "display_data",
          "data": {
            "text/plain": [
              "<Figure size 432x288 with 1 Axes>"
            ],
            "image/png": "[encoded data removed]"
          },
          "metadata": {
            "needs_background": "light"
          }
        }
      ]
    },
    {
      "cell_type": "markdown",
      "source": [
        "removing the columns which we won't use in analysis"
      ],
      "metadata": {
        "id": "Ye5KVuUF93pX"
      }
    },
    {
      "cell_type": "code",
      "source": [
        ""
      ],
      "metadata": {
        "id": "JD5iahe09-oe"
      },
      "execution_count": null,
      "outputs": []
    },
    {
      "cell_type": "markdown",
      "source": [
        "##Analysis and visualization"
      ],
      "metadata": {
        "id": "VgX7WSoQshQN"
      }
    },
    {
      "cell_type": "markdown",
      "source": [
        "###columns we'll analyze:\n",
        "1. city\n",
        "2. start time\n",
        "3. weather condition\n",
        "4. temperature\n",
        "5. start lat, start lng"
      ],
      "metadata": {
        "id": "E65YTaaw-XfW"
      }
    },
    {
      "cell_type": "code",
      "source": [
        "df.City"
      ],
      "metadata": {
        "colab": {
          "base_uri": "https://localhost:8080/"
        },
        "id": "uOdiMXBGRdUA",
        "outputId": "13084a6c-38e5-4722-cfca-4381418aa5f1"
      },
      "execution_count": null,
      "outputs": [
        {
          "output_type": "execute_result",
          "data": {
            "text/plain": [
              "0               Dublin\n",
              "1               Dayton\n",
              "2           Cincinnati\n",
              "3                Akron\n",
              "4           Cincinnati\n",
              "              ...     \n",
              "2845337      Riverside\n",
              "2845338      San Diego\n",
              "2845339         Orange\n",
              "2845340    Culver City\n",
              "2845341       Highland\n",
              "Name: City, Length: 2845342, dtype: object"
            ]
          },
          "metadata": {},
          "execution_count": 40
        }
      ]
    },
    {
      "cell_type": "code",
      "source": [
        "len(df.City.unique())"
      ],
      "metadata": {
        "colab": {
          "base_uri": "https://localhost:8080/"
        },
        "id": "cMss7hHKsreU",
        "outputId": "eb725542-da0d-44c6-8a73-90c609e6d078"
      },
      "execution_count": null,
      "outputs": [
        {
          "output_type": "execute_result",
          "data": {
            "text/plain": [
              "11682"
            ]
          },
          "metadata": {},
          "execution_count": 31
        }
      ]
    },
    {
      "cell_type": "code",
      "source": [
        "cities_by_accident = df.City.value_counts()\n",
        "cities_by_accident"
      ],
      "metadata": {
        "colab": {
          "base_uri": "https://localhost:8080/"
        },
        "id": "QlY4KXFNsrTc",
        "outputId": "966ef0a8-73f2-4eaf-bdcd-828fce41af03"
      },
      "execution_count": null,
      "outputs": [
        {
          "output_type": "execute_result",
          "data": {
            "text/plain": [
              "Miami                           106966\n",
              "Los Angeles                      68956\n",
              "Orlando                          54691\n",
              "Dallas                           41979\n",
              "Houston                          39448\n",
              "                                 ...  \n",
              "Ridgedale                            1\n",
              "Sekiu                                1\n",
              "Wooldridge                           1\n",
              "Bullock                              1\n",
              "American Fork-Pleasant Grove         1\n",
              "Name: City, Length: 11681, dtype: int64"
            ]
          },
          "metadata": {},
          "execution_count": 35
        }
      ]
    },
    {
      "cell_type": "code",
      "source": [
        "cities_by_accident[:20]"
      ],
      "metadata": {
        "colab": {
          "base_uri": "https://localhost:8080/"
        },
        "id": "9Dy_ZRaksrM0",
        "outputId": "e2d70d68-6a1f-4036-ab66-6e5f13f7a23c"
      },
      "execution_count": null,
      "outputs": [
        {
          "output_type": "execute_result",
          "data": {
            "text/plain": [
              "Miami           106966\n",
              "Los Angeles      68956\n",
              "Orlando          54691\n",
              "Dallas           41979\n",
              "Houston          39448\n",
              "Charlotte        33152\n",
              "Sacramento       32559\n",
              "San Diego        26627\n",
              "Raleigh          22840\n",
              "Minneapolis      22768\n",
              "Portland         20944\n",
              "Nashville        20267\n",
              "Austin           18301\n",
              "Baton Rouge      18182\n",
              "Phoenix          17143\n",
              "Saint Paul       16869\n",
              "New Orleans      16251\n",
              "Atlanta          15622\n",
              "Jacksonville     14967\n",
              "Richmond         14349\n",
              "Name: City, dtype: int64"
            ]
          },
          "metadata": {},
          "execution_count": 39
        }
      ]
    },
    {
      "cell_type": "code",
      "source": [
        "cities_by_accident[:20].plot(kind='barh')"
      ],
      "metadata": {
        "colab": {
          "base_uri": "https://localhost:8080/",
          "height": 283
        },
        "id": "x0o98pJZsrFu",
        "outputId": "f27b76d2-0b77-4960-abdc-dc1e13c70795"
      },
      "execution_count": null,
      "outputs": [
        {
          "output_type": "execute_result",
          "data": {
            "text/plain": [
              "<matplotlib.axes._subplots.AxesSubplot at 0x7f4de3c6aa90>"
            ]
          },
          "metadata": {},
          "execution_count": 41
        },
        {
          "output_type": "display_data",
          "data": {
            "text/plain": [
              "<Figure size 432x288 with 1 Axes>"
            ],
            "image/png": "[encoded data removed]"
          },
          "metadata": {
            "needs_background": "light"
          }
        }
      ]
    },
    {
      "cell_type": "code",
      "source": [
        "import seaborn as sns\n",
        "sns.set_style(\"darkgrid\")"
      ],
      "metadata": {
        "id": "T2i9shs4sq6l"
      },
      "execution_count": null,
      "outputs": []
    },
    {
      "cell_type": "code",
      "source": [
        "sns.histplot(cities_by_accident,log_scale=True)"
      ],
      "metadata": {
        "colab": {
          "base_uri": "https://localhost:8080/",
          "height": 301
        },
        "id": "MOMuloZ6SBq-",
        "outputId": "8a516cd2-ca6b-4a14-d7fa-36c79db54a59"
      },
      "execution_count": null,
      "outputs": [
        {
          "output_type": "execute_result",
          "data": {
            "text/plain": [
              "<matplotlib.axes._subplots.AxesSubplot at 0x7f4dd7864b90>"
            ]
          },
          "metadata": {},
          "execution_count": 43
        },
        {
          "output_type": "display_data",
          "data": {
            "text/plain": [
              "<Figure size 432x288 with 1 Axes>"
            ],
            "image/png": "[encoded data removed]"
          },
          "metadata": {}
        }
      ]
    },
    {
      "cell_type": "code",
      "source": [
        "df.Start_Time"
      ],
      "metadata": {
        "colab": {
          "base_uri": "https://localhost:8080/"
        },
        "id": "rknXt8-DSP--",
        "outputId": "06180636-695a-4289-8598-d1a7cd7bd15b"
      },
      "execution_count": null,
      "outputs": [
        {
          "output_type": "execute_result",
          "data": {
            "text/plain": [
              "0          2016-02-08 00:37:08\n",
              "1          2016-02-08 05:56:20\n",
              "2          2016-02-08 06:15:39\n",
              "3          2016-02-08 06:51:45\n",
              "4          2016-02-08 07:53:43\n",
              "                  ...         \n",
              "2845337    2019-08-23 18:03:25\n",
              "2845338    2019-08-23 19:11:30\n",
              "2845339    2019-08-23 19:00:21\n",
              "2845340    2019-08-23 19:00:21\n",
              "2845341    2019-08-23 18:52:06\n",
              "Name: Start_Time, Length: 2845342, dtype: object"
            ]
          },
          "metadata": {},
          "execution_count": 44
        }
      ]
    },
    {
      "cell_type": "code",
      "source": [
        "df.Start_Time = pd.to_datetime(df.Start_Time)"
      ],
      "metadata": {
        "id": "pxHLqFdQSP6-"
      },
      "execution_count": null,
      "outputs": []
    },
    {
      "cell_type": "code",
      "source": [
        "sns.displot(df.Start_Time.dt.hour, bins=24, kde=False, )"
      ],
      "metadata": {
        "colab": {
          "base_uri": "https://localhost:8080/",
          "height": 387
        },
        "id": "9bl1LRNXSPyO",
        "outputId": "9e3f48d0-7efe-4fc7-89b3-8a975c9bb302"
      },
      "execution_count": null,
      "outputs": [
        {
          "output_type": "execute_result",
          "data": {
            "text/plain": [
              "<seaborn.axisgrid.FacetGrid at 0x7f4dd4c0d290>"
            ]
          },
          "metadata": {},
          "execution_count": 49
        },
        {
          "output_type": "display_data",
          "data": {
            "text/plain": [
              "<Figure size 360x360 with 1 Axes>"
            ],
            "image/png": "[encoded data removed]"
          },
          "metadata": {}
        }
      ]
    },
    {
      "cell_type": "markdown",
      "source": [
        "1. A high percentage of accidents occurs between 11 am to 6 pm\n",
        "2. The least percentage of accident occurs between 12 am to 5 am"
      ],
      "metadata": {
        "id": "HngdIR1GTR9Y"
      }
    },
    {
      "cell_type": "code",
      "source": [
        "sns.distplot(df.Start_Time.dt.dayofweek, bins=7, kde= False, norm_hist=True)"
      ],
      "metadata": {
        "colab": {
          "base_uri": "https://localhost:8080/",
          "height": 354
        },
        "id": "zZR5xDZuTRlA",
        "outputId": "1a37dcd6-97f3-449b-ad80-84322b4c556b"
      },
      "execution_count": null,
      "outputs": [
        {
          "output_type": "stream",
          "name": "stderr",
          "text": [
            "/usr/local/lib/python3.7/dist-packages/seaborn/distributions.py:2619: FutureWarning: `distplot` is a deprecated function and will be removed in a future version. Please adapt your code to use either `displot` (a figure-level function with similar flexibility) or `histplot` (an axes-level function for histograms).\n",
            "  warnings.warn(msg, FutureWarning)\n"
          ]
        },
        {
          "output_type": "execute_result",
          "data": {
            "text/plain": [
              "<matplotlib.axes._subplots.AxesSubplot at 0x7f4dd4a41550>"
            ]
          },
          "metadata": {},
          "execution_count": 51
        },
        {
          "output_type": "display_data",
          "data": {
            "text/plain": [
              "<Figure size 432x288 with 1 Axes>"
            ],
            "image/png": "[encoded data removed]"
          },
          "metadata": {}
        }
      ]
    },
    {
      "cell_type": "markdown",
      "source": [
        "1.The percentage of accident occuring on weekends is lower as compared to weekdays."
      ],
      "metadata": {
        "id": "_ZEzQuL6VCIK"
      }
    },
    {
      "cell_type": "markdown",
      "source": [
        "To check if the distribution by hour of accidents is simillar for weekends as compared to weekdays"
      ],
      "metadata": {
        "id": "Hj9aFgDBVbA9"
      }
    },
    {
      "cell_type": "code",
      "source": [
        "sns.displot(df.Start_Time.dt.month, bins=12, kde=False, )"
      ],
      "metadata": {
        "colab": {
          "base_uri": "https://localhost:8080/",
          "height": 387
        },
        "id": "0pRxeyUVJKlO",
        "outputId": "56046570-1b1f-4c19-f566-5f1e432bc3b0"
      },
      "execution_count": null,
      "outputs": [
        {
          "output_type": "execute_result",
          "data": {
            "text/plain": [
              "<seaborn.axisgrid.FacetGrid at 0x7f69553b4690>"
            ]
          },
          "metadata": {},
          "execution_count": 61
        },
        {
          "output_type": "display_data",
          "data": {
            "text/plain": [
              "<Figure size 360x360 with 1 Axes>"
            ],
            "image/png": "[encoded data removed]"
          },
          "metadata": {}
        }
      ]
    },
    {
      "cell_type": "markdown",
      "source": [
        "1. the number of accidents increases during the winter time.\n",
        "2. Accidents are lower in march and july."
      ],
      "metadata": {
        "id": "_XLPhPL7JpOV"
      }
    },
    {
      "cell_type": "code",
      "source": [
        "Sunday_start_time=df.Start_Time[df.Start_Time.dt.dayofweek==6]\n",
        "sns.distplot(Sunday_start_time.dt.hour, bins=24, kde=False)"
      ],
      "metadata": {
        "colab": {
          "base_uri": "https://localhost:8080/",
          "height": 354
        },
        "id": "Hwkc8ps4TK93",
        "outputId": "a0b7f34c-0ded-4f47-86d5-1129455f4a12"
      },
      "execution_count": null,
      "outputs": [
        {
          "output_type": "stream",
          "name": "stderr",
          "text": [
            "/usr/local/lib/python3.7/dist-packages/seaborn/distributions.py:2619: FutureWarning: `distplot` is a deprecated function and will be removed in a future version. Please adapt your code to use either `displot` (a figure-level function with similar flexibility) or `histplot` (an axes-level function for histograms).\n",
            "  warnings.warn(msg, FutureWarning)\n"
          ]
        },
        {
          "output_type": "execute_result",
          "data": {
            "text/plain": [
              "<matplotlib.axes._subplots.AxesSubplot at 0x7f4dd4976dd0>"
            ]
          },
          "metadata": {},
          "execution_count": 54
        },
        {
          "output_type": "display_data",
          "data": {
            "text/plain": [
              "<Figure size 432x288 with 1 Axes>"
            ],
            "image/png": "[encoded data removed]"
          },
          "metadata": {}
        }
      ]
    },
    {
      "cell_type": "code",
      "source": [
        "monday_start_time=df.Start_Time[df.Start_Time.dt.dayofweek==0]\n",
        "sns.distplot(monday_start_time.dt.hour, bins=24, kde=False)"
      ],
      "metadata": {
        "colab": {
          "base_uri": "https://localhost:8080/",
          "height": 355
        },
        "id": "9Nbkk3gLWgOy",
        "outputId": "ba393780-fce2-48c0-a0b5-d557b7b84df3"
      },
      "execution_count": null,
      "outputs": [
        {
          "output_type": "stream",
          "name": "stderr",
          "text": [
            "/usr/local/lib/python3.7/dist-packages/seaborn/distributions.py:2619: FutureWarning: `distplot` is a deprecated function and will be removed in a future version. Please adapt your code to use either `displot` (a figure-level function with similar flexibility) or `histplot` (an axes-level function for histograms).\n",
            "  warnings.warn(msg, FutureWarning)\n"
          ]
        },
        {
          "output_type": "execute_result",
          "data": {
            "text/plain": [
              "<matplotlib.axes._subplots.AxesSubplot at 0x7f4dd4922a90>"
            ]
          },
          "metadata": {},
          "execution_count": 55
        },
        {
          "output_type": "display_data",
          "data": {
            "text/plain": [
              "<Figure size 432x288 with 1 Axes>"
            ],
            "image/png": "[encoded data removed]"
          },
          "metadata": {}
        }
      ]
    },
    {
      "cell_type": "markdown",
      "source": [
        "1. On sunday we do see some difference in trend where number of accidents are more in early morning between 6 am to 9 am"
      ],
      "metadata": {
        "id": "3FhdkNlpWxFT"
      }
    },
    {
      "cell_type": "code",
      "source": [
        "df.Start_Time.dt.year.unique()"
      ],
      "metadata": {
        "colab": {
          "base_uri": "https://localhost:8080/"
        },
        "id": "T5CI452XXtFm",
        "outputId": "6a5d266f-9331-4992-f141-4c214d5ef2a8"
      },
      "execution_count": null,
      "outputs": [
        {
          "output_type": "execute_result",
          "data": {
            "text/plain": [
              "array([2016, 2017, 2021, 2020, 2018, 2019])"
            ]
          },
          "metadata": {},
          "execution_count": 58
        }
      ]
    },
    {
      "cell_type": "code",
      "source": [
        "df_2019=df[df.Start_Time.dt.year ==2019]\n",
        "df.Severity.value_counts().plot(kind='pie')"
      ],
      "metadata": {
        "colab": {
          "base_uri": "https://localhost:8080/",
          "height": 266
        },
        "id": "qT-2Ur0MYXk4",
        "outputId": "307f0629-5267-4c47-b0ad-8c9eef67ff80"
      },
      "execution_count": null,
      "outputs": [
        {
          "output_type": "execute_result",
          "data": {
            "text/plain": [
              "<matplotlib.axes._subplots.AxesSubplot at 0x7f4d0114db10>"
            ]
          },
          "metadata": {},
          "execution_count": 79
        },
        {
          "output_type": "display_data",
          "data": {
            "text/plain": [
              "<Figure size 432x288 with 1 Axes>"
            ],
            "image/png": "[encoded data removed]"
          },
          "metadata": {}
        }
      ]
    },
    {
      "cell_type": "markdown",
      "source": [
        ""
      ],
      "metadata": {
        "id": "ovjLauCFtUD3"
      }
    },
    {
      "cell_type": "markdown",
      "source": [
        "1.The amount of accidents of severirity 2 is much higher than any other severity.\n",
        "2. The minimum number of accident are of severity 1"
      ],
      "metadata": {
        "id": "8EC4EMoOvQGm"
      }
    },
    {
      "cell_type": "code",
      "source": [
        "df_year=df.Start_Time[df.Start_Time.dt.year]\n",
        "df_year.value_counts().unique()"
      ],
      "metadata": {
        "colab": {
          "base_uri": "https://localhost:8080/"
        },
        "id": "mhq5J9EbLaOC",
        "outputId": "e57f9381-c6aa-403b-fab5-d70f28ba3ac7"
      },
      "execution_count": null,
      "outputs": [
        {
          "output_type": "execute_result",
          "data": {
            "text/plain": [
              "array([1511745,  625864,  258615,  163918,  163176,  122024])"
            ]
          },
          "metadata": {},
          "execution_count": 77
        }
      ]
    },
    {
      "cell_type": "code",
      "source": [
        "sns.displot(df.Start_Time.dt.year, bins=6, kde=False, )"
      ],
      "metadata": {
        "colab": {
          "base_uri": "https://localhost:8080/",
          "height": 387
        },
        "id": "goNHAybkN_W-",
        "outputId": "8ffebf74-31cd-455a-a50a-f48278fbd1fc"
      },
      "execution_count": null,
      "outputs": [
        {
          "output_type": "execute_result",
          "data": {
            "text/plain": [
              "<seaborn.axisgrid.FacetGrid at 0x7f695485e190>"
            ]
          },
          "metadata": {},
          "execution_count": 78
        },
        {
          "output_type": "display_data",
          "data": {
            "text/plain": [
              "<Figure size 360x360 with 1 Axes>"
            ],
            "image/png": "[encoded data removed]"
          },
          "metadata": {}
        }
      ]
    },
    {
      "cell_type": "markdown",
      "source": [
        "The number of accidents has shown an increasing trend over te years."
      ],
      "metadata": {
        "id": "aZ4ADF_ROQ0U"
      }
    },
    {
      "cell_type": "markdown",
      "source": [
        "###Start Latitude and Longitude"
      ],
      "metadata": {
        "id": "feE7Q6iswnp2"
      }
    },
    {
      "cell_type": "code",
      "source": [
        "df.Start_Lat"
      ],
      "metadata": {
        "colab": {
          "base_uri": "https://localhost:8080/"
        },
        "id": "LWFyQh0cw7cz",
        "outputId": "2c9965c9-b7e9-4156-fb3d-4d54cb3a771a"
      },
      "execution_count": null,
      "outputs": [
        {
          "output_type": "execute_result",
          "data": {
            "text/plain": [
              "0          40.108910\n",
              "1          39.865420\n",
              "2          39.102660\n",
              "3          41.062130\n",
              "4          39.172393\n",
              "             ...    \n",
              "2845337    34.002480\n",
              "2845338    32.766960\n",
              "2845339    33.775450\n",
              "2845340    33.992460\n",
              "2845341    34.133930\n",
              "Name: Start_Lat, Length: 2845342, dtype: float64"
            ]
          },
          "metadata": {},
          "execution_count": 41
        }
      ]
    },
    {
      "cell_type": "code",
      "source": [
        "df.Start_Lng"
      ],
      "metadata": {
        "colab": {
          "base_uri": "https://localhost:8080/"
        },
        "id": "DsZejjsXw7Yc",
        "outputId": "1712c182-2d86-45b2-e4e8-97432b29fed1"
      },
      "execution_count": null,
      "outputs": [
        {
          "output_type": "execute_result",
          "data": {
            "text/plain": [
              "0          -83.092860\n",
              "1          -84.062800\n",
              "2          -84.524680\n",
              "3          -81.537840\n",
              "4          -84.492792\n",
              "              ...    \n",
              "2845337   -117.379360\n",
              "2845338   -117.148060\n",
              "2845339   -117.847790\n",
              "2845340   -118.403020\n",
              "2845341   -117.230920\n",
              "Name: Start_Lng, Length: 2845342, dtype: float64"
            ]
          },
          "metadata": {},
          "execution_count": 40
        }
      ]
    },
    {
      "cell_type": "code",
      "source": [
        "Sample_df = df.sample(int(0.1 * len(df)))"
      ],
      "metadata": {
        "id": "bs6GYwalw7Ul"
      },
      "execution_count": null,
      "outputs": []
    },
    {
      "cell_type": "code",
      "source": [
        "sns.scatterplot(x=Sample_df.Start_Lng, y=Sample_df.Start_Lat, size= 0.0001)"
      ],
      "metadata": {
        "colab": {
          "base_uri": "https://localhost:8080/",
          "height": 300
        },
        "id": "V0CehNqYw7Kk",
        "outputId": "16cbe6be-0021-494e-9a5f-048eccd921f4"
      },
      "execution_count": null,
      "outputs": [
        {
          "output_type": "execute_result",
          "data": {
            "text/plain": [
              "<matplotlib.axes._subplots.AxesSubplot at 0x7f69b701e410>"
            ]
          },
          "metadata": {},
          "execution_count": 19
        },
        {
          "output_type": "display_data",
          "data": {
            "text/plain": [
              "<Figure size 432x288 with 1 Axes>"
            ],
            "image/png": "[encoded data removed]"
          },
          "metadata": {}
        }
      ]
    },
    {
      "cell_type": "code",
      "source": [
        "import folium"
      ],
      "metadata": {
        "id": "Ccx6ZI2j4iTg"
      },
      "execution_count": null,
      "outputs": []
    },
    {
      "cell_type": "code",
      "source": [
        "lat, lon = df.Start_Lat[0], df.Start_Lng[0]\n",
        "lat,lon"
      ],
      "metadata": {
        "colab": {
          "base_uri": "https://localhost:8080/"
        },
        "id": "GH_aR2fi4n1-",
        "outputId": "b0f81110-0aa2-4abe-b570-64c3d7d2c9ea"
      },
      "execution_count": null,
      "outputs": [
        {
          "output_type": "execute_result",
          "data": {
            "text/plain": [
              "(40.10891, -83.09286)"
            ]
          },
          "metadata": {},
          "execution_count": 21
        }
      ]
    },
    {
      "cell_type": "code",
      "source": [
        "for x in df[['Start_Lat','Start_Lng']].sample(100).iteritems():\n",
        "  print(x[1])"
      ],
      "metadata": {
        "colab": {
          "base_uri": "https://localhost:8080/"
        },
        "id": "s1Ma0CbU45qS",
        "outputId": "3119f849-6d2e-4629-95d2-b0fe32285fce"
      },
      "execution_count": null,
      "outputs": [
        {
          "output_type": "stream",
          "name": "stdout",
          "text": [
            "237685     40.452614\n",
            "2813492    39.935150\n",
            "1664608    29.651552\n",
            "1208205    35.349186\n",
            "1019956    38.944398\n",
            "             ...    \n",
            "197496     45.532069\n",
            "1927179    44.566973\n",
            "1663475    25.920088\n",
            "1777553    40.734460\n",
            "2012331    29.901129\n",
            "Name: Start_Lat, Length: 100, dtype: float64\n",
            "237685     -79.996071\n",
            "2813492    -74.965560\n",
            "1664608    -95.568727\n",
            "1208205    -78.667656\n",
            "1019956    -94.378194\n",
            "              ...    \n",
            "197496    -122.618303\n",
            "1927179   -123.188935\n",
            "1663475    -80.325095\n",
            "1777553    -74.124235\n",
            "2012331    -82.136571\n",
            "Name: Start_Lng, Length: 100, dtype: float64\n"
          ]
        }
      ]
    },
    {
      "cell_type": "code",
      "source": [
        "zip(list(df.Start_Lat),list(df.Start_Lng))"
      ],
      "metadata": {
        "colab": {
          "base_uri": "https://localhost:8080/"
        },
        "id": "oIj3EOnR5j0F",
        "outputId": "0544736b-2fec-40ad-ab3f-1052792e1889"
      },
      "execution_count": null,
      "outputs": [
        {
          "output_type": "execute_result",
          "data": {
            "text/plain": [
              "<zip at 0x7f69b564b640>"
            ]
          },
          "metadata": {},
          "execution_count": 23
        }
      ]
    },
    {
      "cell_type": "code",
      "source": [
        "from folium import map"
      ],
      "metadata": {
        "id": "HjE9bKz1-2_N"
      },
      "execution_count": null,
      "outputs": []
    },
    {
      "cell_type": "code",
      "source": [
        "from folium.plugins import HeatMap"
      ],
      "metadata": {
        "id": "fBp9ngiw5jw-"
      },
      "execution_count": null,
      "outputs": []
    },
    {
      "cell_type": "code",
      "source": [
        "Sample_df=df.sample(int(0.001 * len(df)))\n",
        "lat_lon_pairs = list(zip(list(df.Start_Lat),list(df.Start_Lng)))"
      ],
      "metadata": {
        "id": "PNTNNqQU5juB"
      },
      "execution_count": null,
      "outputs": []
    },
    {
      "cell_type": "code",
      "source": [
        "map = folium.Map()\n",
        "HeatMap(lat_lon_pairs).add_to(map)\n",
        "print(map)\n",
        "\n"
      ],
      "metadata": {
        "colab": {
          "base_uri": "https://localhost:8080/"
        },
        "id": "j2cgQR_w7ede",
        "outputId": "c3741fde-4f20-4149-968e-f54d396c7186"
      },
      "execution_count": null,
      "outputs": [
        {
          "output_type": "stream",
          "name": "stdout",
          "text": [
            "<folium.folium.Map object at 0x7f694e440c10>\n"
          ]
        }
      ]
    },
    {
      "cell_type": "code",
      "source": [
        "from pandas.core.algorithms import unique\n",
        "State= df.State.unique()\n",
        "len(State)"
      ],
      "metadata": {
        "colab": {
          "base_uri": "https://localhost:8080/"
        },
        "id": "6qTdwyIoBmvr",
        "outputId": "3fa0e656-c53d-4102-8611-fd21353a32f4"
      },
      "execution_count": null,
      "outputs": [
        {
          "output_type": "execute_result",
          "data": {
            "text/plain": [
              "49"
            ]
          },
          "metadata": {},
          "execution_count": 48
        }
      ]
    },
    {
      "cell_type": "code",
      "source": [
        "states_by_accident = df.State.value_counts()\n",
        "states_by_accident"
      ],
      "metadata": {
        "colab": {
          "base_uri": "https://localhost:8080/"
        },
        "id": "cYgwvTZAE58g",
        "outputId": "a0197dbb-09d1-4ac3-b925-fe48ac82c553"
      },
      "execution_count": null,
      "outputs": [
        {
          "output_type": "execute_result",
          "data": {
            "text/plain": [
              "CA    795868\n",
              "FL    401388\n",
              "TX    149037\n",
              "OR    126341\n",
              "VA    113535\n",
              "NY    108049\n",
              "PA     99975\n",
              "MN     97185\n",
              "NC     91362\n",
              "SC     89216\n",
              "MD     65085\n",
              "AZ     56504\n",
              "NJ     52902\n",
              "TN     52613\n",
              "UT     49193\n",
              "LA     47232\n",
              "IL     47105\n",
              "MI     43843\n",
              "GA     40086\n",
              "WA     32554\n",
              "CT     29762\n",
              "MO     29633\n",
              "CO     25340\n",
              "OH     24409\n",
              "IN     20850\n",
              "AL     19322\n",
              "MT     15964\n",
              "AR     10935\n",
              "IA      9607\n",
              "DC      9133\n",
              "KS      9033\n",
              "OK      8806\n",
              "ID      8544\n",
              "WI      7896\n",
              "WV      7632\n",
              "KY      6638\n",
              "MA      6392\n",
              "NV      6197\n",
              "MS      5320\n",
              "DE      4842\n",
              "RI      4451\n",
              "NH      3866\n",
              "NE      3320\n",
              "NM      2370\n",
              "ND      2258\n",
              "ME      2193\n",
              "WY       990\n",
              "VT       365\n",
              "SD       201\n",
              "Name: State, dtype: int64"
            ]
          },
          "metadata": {},
          "execution_count": 49
        }
      ]
    },
    {
      "cell_type": "markdown",
      "source": [
        "1. Califronia has the maximun number of accidents.\n",
        "2. South decota has the least number of accidents."
      ],
      "metadata": {
        "id": "N7k4gMp-IN0t"
      }
    },
    {
      "cell_type": "code",
      "source": [
        "states_by_accident[:5].plot(kind='bar')"
      ],
      "metadata": {
        "colab": {
          "base_uri": "https://localhost:8080/",
          "height": 288
        },
        "id": "SWIhwjqFGtXx",
        "outputId": "89fdaca8-e8f5-4df2-9f58-116cc7f3475a"
      },
      "execution_count": null,
      "outputs": [
        {
          "output_type": "execute_result",
          "data": {
            "text/plain": [
              "<matplotlib.axes._subplots.AxesSubplot at 0x7f695523e1d0>"
            ]
          },
          "metadata": {},
          "execution_count": 62
        },
        {
          "output_type": "display_data",
          "data": {
            "text/plain": [
              "<Figure size 432x288 with 1 Axes>"
            ],
            "image/png": "[encoded data removed]"
          },
          "metadata": {}
        }
      ]
    },
    {
      "cell_type": "markdown",
      "source": [
        "top five states with highest number of accidents."
      ],
      "metadata": {
        "id": "BfLyA1jXO-Jm"
      }
    },
    {
      "cell_type": "markdown",
      "source": [
        "##summary and conclusion\n",
        "Insights:\n",
        "\n",
        "\n",
        "*   less than 5% of cities have more than 1000 yearly accidents\n",
        "*   Number of accidents are higher in winters.\n",
        "\n",
        "\n",
        "*   Accidents has increaded significantly in year 2021.\n",
        "*   The majority of the accidents are of serverity 2.\n",
        "\n",
        "\n",
        "\n"
      ],
      "metadata": {
        "id": "FbgqXKuys1TH"
      }
    }
  ],
  "metadata": {
    "kernelspec": {
      "display_name": "Python 3",
      "language": "python",
      "name": "python3"
    },
    "language_info": {
      "codemirror_mode": {
        "name": "ipython",
        "version": 3
      },
      "file_extension": ".py",
      "mimetype": "text/x-python",
      "name": "python",
      "nbconvert_exporter": "python",
      "pygments_lexer": "ipython3",
      "version": "3.7.6"
    },
    "colab": {
      "name": "Copy of us-accident-analysis.ipynb",
      "provenance": [],
      "collapsed_sections": [],
      "toc_visible": true
    }
  },
  "nbformat": 4,
  "nbformat_minor": 0
}